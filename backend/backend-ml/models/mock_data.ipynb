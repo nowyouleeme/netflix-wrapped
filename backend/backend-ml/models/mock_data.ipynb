{
 "cells": [
  {
   "cell_type": "code",
   "execution_count": 1,
   "metadata": {},
   "outputs": [
    {
     "name": "stdout",
     "output_type": "stream",
     "text": [
      "[1, 0, 0, 1, 1, 1, 0, 0, 0, 0, 0, 0, 0, 0, 0, 0, 0, 0, 0, 0, 0, 0, 0, 0, 0, 0, 0, 0, 0, 0, 0, 0, 0, 0, 0, 0, 0, 0, 0, 0, 0, 0, 0, 0]\n"
     ]
    }
   ],
   "source": [
    "from csv_read import featurized_movies\n",
    "\n",
    "import numpy as np\n",
    "import random\n",
    "\"\"\"\n",
    "Data Generator for Mock Testing\n",
    "    generator function for each classes\n",
    "\"\"\""
   ]
  },
  {
   "cell_type": "code",
   "execution_count": 2,
   "metadata": {},
   "outputs": [],
   "source": [
    "def explorer_gen():\n",
    "    ret = random.choices(featurized_movies, k=150)\n",
    "    # random selection without any constraints\n",
    "    return ret"
   ]
  },
  {
   "cell_type": "code",
   "execution_count": 3,
   "metadata": {},
   "outputs": [],
   "source": [
    "def romance_list():\n",
    "    ret = []\n",
    "    for content in featurized_movies:\n",
    "        if content[10] == 1 or content[21] == 1:\n",
    "            ret.append(content)\n",
    "    return ret"
   ]
  },
  {
   "cell_type": "code",
   "execution_count": 4,
   "metadata": {},
   "outputs": [],
   "source": [
    "def lovebird_gen():\n",
    "    lst = romance_list()\n",
    "    ret = random.choices(lst, k=150)\n",
    "    return ret"
   ]
  },
  {
   "cell_type": "code",
   "execution_count": 5,
   "metadata": {},
   "outputs": [],
   "source": [
    "def binge_list():\n",
    "    ret = []\n",
    "    for content in featurized_movies:\n",
    "        if content[0] == 1:\n",
    "            ret.append(content)\n",
    "    return ret"
   ]
  },
  {
   "cell_type": "code",
   "execution_count": 6,
   "metadata": {},
   "outputs": [],
   "source": [
    "def binge_gen():\n",
    "    ret = []\n",
    "    lst = binge_list()\n",
    "    for i in range(15):\n",
    "       show = random.choice(lst)\n",
    "       for j in range(10):   \n",
    "        ret.append(show)\n",
    "    return ret"
   ]
  },
  {
   "cell_type": "code",
   "execution_count": 7,
   "metadata": {},
   "outputs": [],
   "source": [
    "def anime_series_list():\n",
    "    ret = []\n",
    "    for content in featurized_movies:\n",
    "        if content[32] == 1:\n",
    "            ret.append(content)\n",
    "    return ret"
   ]
  },
  {
   "cell_type": "code",
   "execution_count": 8,
   "metadata": {},
   "outputs": [],
   "source": [
    "def anime_movies_list():\n",
    "    ret = []\n",
    "    for content in featurized_movies:\n",
    "        if content[30] == 1:\n",
    "            ret.append(content)\n",
    "    return ret"
   ]
  },
  {
   "cell_type": "code",
   "execution_count": 9,
   "metadata": {},
   "outputs": [],
   "source": [
    "def otaku_gen():\n",
    "    ret = []\n",
    "    mov_lst = anime_movies_list()\n",
    "    ser_lst = anime_series_list()\n",
    "    for i in range(10):\n",
    "       ret.extend(random.choices(mov_lst, k=2))\n",
    "       show = random.choice(ser_lst)\n",
    "       for j in range(10):\n",
    "        ret.append(show)\n",
    "       ret.extend(random.choices(mov_lst, k=3))\n",
    "    return ret"
   ]
  },
  {
   "cell_type": "code",
   "execution_count": 10,
   "metadata": {},
   "outputs": [],
   "source": [
    "def old_list():\n",
    "    ret = []\n",
    "    for content in featurized_movies:\n",
    "        if content[0] == 0 and content[1] == 1:\n",
    "            ret.append(content)\n",
    "    return ret"
   ]
  },
  {
   "cell_type": "code",
   "execution_count": 11,
   "metadata": {},
   "outputs": [],
   "source": [
    "def old_gen():\n",
    "    lst = old_list()\n",
    "    ret = random.choices(lst, k=150)\n",
    "    return ret"
   ]
  },
  {
   "cell_type": "code",
   "execution_count": 12,
   "metadata": {},
   "outputs": [
    {
     "data": {
      "text/plain": [
       "'\\nfor i in range(100):\\n    explorer.append(explorer_gen())\\n    lovebird.append(lovebird_gen())\\n    binge.append(binge_gen())\\n    otaku.append(otaku_gen())\\n    old.append(old_gen())\\n'"
      ]
     },
     "execution_count": 12,
     "metadata": {},
     "output_type": "execute_result"
    }
   ],
   "source": [
    "explorer = []\n",
    "lovebird = []\n",
    "binge = []\n",
    "otaku = []\n",
    "old = []\n",
    "train_data = []\n",
    "label = []\n",
    "\n",
    "for i in range(200):\n",
    "    train_data.append(explorer_gen())\n",
    "    train_data.append(lovebird_gen())\n",
    "    train_data.append(binge_gen())\n",
    "    train_data.append(otaku_gen())\n",
    "    train_data.append(old_gen())\n",
    "\n",
    "for i in range(200):\n",
    "    label.append(0)\n",
    "    label.append(1)\n",
    "    label.append(2)\n",
    "    label.append(3)\n",
    "    label.append(4)\n",
    "    \n",
    "'''\n",
    "for i in range(100):\n",
    "    explorer.append(explorer_gen())\n",
    "    lovebird.append(lovebird_gen())\n",
    "    binge.append(binge_gen())\n",
    "    otaku.append(otaku_gen())\n",
    "    old.append(old_gen())\n",
    "'''"
   ]
  },
  {
   "cell_type": "code",
   "execution_count": 13,
   "metadata": {},
   "outputs": [],
   "source": [
    "np.save(\"./data/data.npy\", np.array(train_data))\n",
    "np.save(\"./data/label.npy\", np.array(label))"
   ]
  }
 ],
 "metadata": {
  "kernelspec": {
   "display_name": "tf",
   "language": "python",
   "name": "python3"
  },
  "language_info": {
   "codemirror_mode": {
    "name": "ipython",
    "version": 3
   },
   "file_extension": ".py",
   "mimetype": "text/x-python",
   "name": "python",
   "nbconvert_exporter": "python",
   "pygments_lexer": "ipython3",
   "version": "3.9.12"
  },
  "orig_nbformat": 4
 },
 "nbformat": 4,
 "nbformat_minor": 2
}
