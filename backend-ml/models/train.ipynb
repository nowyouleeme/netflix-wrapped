{
 "cells": [
  {
   "cell_type": "code",
   "execution_count": 15,
   "metadata": {},
   "outputs": [],
   "source": [
    "import numpy as np\n",
    "from sklearn.model_selection import train_test_split\n",
    "import tensorflow as tf\n",
    "from tensorflow import keras\n",
    "from tensorflow.keras import layers\n",
    "\n"
   ]
  },
  {
   "cell_type": "code",
   "execution_count": 16,
   "metadata": {},
   "outputs": [],
   "source": [
    "X = np.load(\"./data/data.npy\")\n",
    "y = np.load(\"./data/label.npy\")"
   ]
  },
  {
   "cell_type": "code",
   "execution_count": 17,
   "metadata": {},
   "outputs": [
    {
     "data": {
      "text/plain": [
       "(1000, 150, 44)"
      ]
     },
     "execution_count": 17,
     "metadata": {},
     "output_type": "execute_result"
    }
   ],
   "source": [
    "np.shape(X)"
   ]
  },
  {
   "cell_type": "code",
   "execution_count": 18,
   "metadata": {},
   "outputs": [
    {
     "data": {
      "text/plain": [
       "(1000,)"
      ]
     },
     "execution_count": 18,
     "metadata": {},
     "output_type": "execute_result"
    }
   ],
   "source": [
    "np.shape(y)"
   ]
  },
  {
   "cell_type": "code",
   "execution_count": 19,
   "metadata": {},
   "outputs": [],
   "source": [
    "X_train, X_test, y_train, y_test = train_test_split(X, y, test_size=0.5, random_state=42)"
   ]
  },
  {
   "cell_type": "code",
   "execution_count": 20,
   "metadata": {},
   "outputs": [],
   "source": [
    "input_shape = (150, 44)\n",
    "num_classes = 5"
   ]
  },
  {
   "cell_type": "code",
   "execution_count": 21,
   "metadata": {},
   "outputs": [],
   "source": [
    "model = keras.Sequential([\n",
    "    layers.Conv1D(filters=32, kernel_size=3, activation='relu', input_shape=input_shape),\n",
    "    layers.MaxPooling1D(pool_size=2),\n",
    "    layers.Flatten(),\n",
    "    layers.Dense(64, activation='relu'),\n",
    "    layers.Dense(num_classes, activation='softmax')\n",
    "])"
   ]
  },
  {
   "cell_type": "code",
   "execution_count": 22,
   "metadata": {},
   "outputs": [],
   "source": [
    "model.compile(loss='sparse_categorical_crossentropy', optimizer='adam', metrics=['accuracy'])"
   ]
  },
  {
   "cell_type": "code",
   "execution_count": 23,
   "metadata": {},
   "outputs": [
    {
     "name": "stdout",
     "output_type": "stream",
     "text": [
      "Model: \"sequential_1\"\n",
      "_________________________________________________________________\n",
      " Layer (type)                Output Shape              Param #   \n",
      "=================================================================\n",
      " conv1d_1 (Conv1D)           (None, 148, 32)           4256      \n",
      "                                                                 \n",
      " max_pooling1d_1 (MaxPooling  (None, 74, 32)           0         \n",
      " 1D)                                                             \n",
      "                                                                 \n",
      " flatten_1 (Flatten)         (None, 2368)              0         \n",
      "                                                                 \n",
      " dense_2 (Dense)             (None, 64)                151616    \n",
      "                                                                 \n",
      " dense_3 (Dense)             (None, 5)                 325       \n",
      "                                                                 \n",
      "=================================================================\n",
      "Total params: 156,197\n",
      "Trainable params: 156,197\n",
      "Non-trainable params: 0\n",
      "_________________________________________________________________\n"
     ]
    }
   ],
   "source": [
    "model.summary()"
   ]
  },
  {
   "cell_type": "code",
   "execution_count": 24,
   "metadata": {},
   "outputs": [],
   "source": [
    "cp_callback = tf.keras.callbacks.ModelCheckpoint(filepath=\"./weights/\",\n",
    "                                                 save_weights_only=True,\n",
    "                                                 verbose=1)"
   ]
  },
  {
   "cell_type": "code",
   "execution_count": 25,
   "metadata": {},
   "outputs": [
    {
     "name": "stdout",
     "output_type": "stream",
     "text": [
      "Epoch 1/5\n",
      "13/16 [=======================>......] - ETA: 0s - loss: 0.5632 - accuracy: 0.8510\n",
      "Epoch 1: saving model to ./weights/\n",
      "16/16 [==============================] - 1s 26ms/step - loss: 0.4758 - accuracy: 0.8760 - val_loss: 0.0217 - val_accuracy: 1.0000\n",
      "Epoch 2/5\n",
      "13/16 [=======================>......] - ETA: 0s - loss: 0.0078 - accuracy: 1.0000\n",
      "Epoch 2: saving model to ./weights/\n",
      "16/16 [==============================] - 0s 14ms/step - loss: 0.0068 - accuracy: 1.0000 - val_loss: 0.0017 - val_accuracy: 1.0000\n",
      "Epoch 3/5\n",
      "10/16 [=================>............] - ETA: 0s - loss: 0.0010 - accuracy: 1.0000\n",
      "Epoch 3: saving model to ./weights/\n",
      "16/16 [==============================] - 0s 13ms/step - loss: 8.9888e-04 - accuracy: 1.0000 - val_loss: 8.0765e-04 - val_accuracy: 1.0000\n",
      "Epoch 4/5\n",
      "10/16 [=================>............] - ETA: 0s - loss: 5.1919e-04 - accuracy: 1.0000\n",
      "Epoch 4: saving model to ./weights/\n",
      "16/16 [==============================] - 0s 12ms/step - loss: 4.9625e-04 - accuracy: 1.0000 - val_loss: 5.3249e-04 - val_accuracy: 1.0000\n",
      "Epoch 5/5\n",
      "11/16 [===================>..........] - ETA: 0s - loss: 3.7616e-04 - accuracy: 1.0000\n",
      "Epoch 5: saving model to ./weights/\n",
      "16/16 [==============================] - 0s 11ms/step - loss: 3.6851e-04 - accuracy: 1.0000 - val_loss: 4.4278e-04 - val_accuracy: 1.0000\n"
     ]
    }
   ],
   "source": [
    "history = model.fit(X_train, y_train, validation_data=(X_test, y_test), epochs=5, batch_size=32, callbacks=[cp_callback])"
   ]
  },
  {
   "cell_type": "code",
   "execution_count": 26,
   "metadata": {},
   "outputs": [
    {
     "name": "stdout",
     "output_type": "stream",
     "text": [
      "Test loss: 0.0004427773819770664\n",
      "Test accuracy: 1.0\n"
     ]
    }
   ],
   "source": [
    "score = model.evaluate(X_test, y_test, verbose=0)\n",
    "print(f'Test loss: {score[0]}')\n",
    "print(f'Test accuracy: {score[1]}')"
   ]
  },
  {
   "cell_type": "code",
   "execution_count": 30,
   "metadata": {},
   "outputs": [
    {
     "name": "stdout",
     "output_type": "stream",
     "text": [
      "16/16 [==============================] - 0s 3ms/step\n"
     ]
    },
    {
     "data": {
      "text/plain": [
       "array([1, 2, 0, 0, 1, 3, 1, 3, 4, 1, 1, 1, 1, 3, 3, 4, 0, 3, 1, 4, 4, 4,\n",
       "       1, 2, 0, 0, 1, 1, 2, 2, 1, 4, 1, 4, 0, 3, 2, 4, 1, 4, 3, 1, 2, 4,\n",
       "       4, 2, 4, 1, 4, 2, 0, 4, 1, 3, 3, 0, 2, 0, 1, 0, 1, 4, 2, 4, 4, 2,\n",
       "       2, 1, 0, 3, 2, 3, 0, 1, 2, 4, 2, 4, 4, 2, 4, 1, 0, 2, 3, 3, 3, 4,\n",
       "       3, 2, 2, 1, 2, 3, 2, 1, 4, 3, 3, 1, 1, 1, 1, 1, 0, 4, 4, 4, 3, 2,\n",
       "       3, 3, 0, 1, 1, 2, 4, 3, 4, 4, 2, 0, 3, 0, 2, 4, 3, 0, 2, 0, 4, 4,\n",
       "       0, 0, 4, 0, 0, 0, 0, 2, 4, 2, 1, 1, 3, 4, 0, 4, 2, 1, 3, 3, 2, 4,\n",
       "       1, 2, 4, 2, 0, 4, 0, 2, 4, 0, 0, 3, 3, 4, 4, 0, 1, 4, 0, 4, 1, 3,\n",
       "       4, 4, 2, 2, 4, 0, 2, 1, 0, 2, 0, 0, 2, 4, 3, 4, 1, 4, 3, 3, 2, 3,\n",
       "       3, 3, 4, 0, 0, 2, 1, 1, 0, 3, 0, 4, 0, 1, 0, 2, 0, 1, 4, 4, 2, 3,\n",
       "       0, 4, 0, 4, 1, 2, 4, 0, 4, 1, 4, 4, 1, 0, 3, 1, 1, 3, 2, 3, 3, 4,\n",
       "       4, 4, 1, 4, 0, 2, 4, 1, 2, 1, 4, 4, 3, 3, 4, 1, 2, 0, 1, 0, 2, 1,\n",
       "       2, 3, 3, 0, 1, 1, 0, 3, 0, 0, 3, 4, 1, 3, 1, 3, 2, 2, 4, 0, 1, 2,\n",
       "       4, 4, 2, 0, 1, 1, 1, 4, 2, 3, 0, 3, 2, 0, 1, 0, 2, 2, 3, 4, 4, 1,\n",
       "       4, 2, 4, 0, 1, 2, 3, 3, 3, 2, 3, 2, 4, 3, 2, 3, 2, 1, 2, 0, 1, 3,\n",
       "       3, 1, 2, 4, 0, 1, 1, 2, 2, 2, 2, 4, 2, 0, 4, 0, 2, 3, 0, 4, 1, 4,\n",
       "       0, 4, 1, 1, 0, 4, 1, 4, 3, 0, 0, 0, 4, 3, 3, 3, 3, 2, 4, 0, 0, 3,\n",
       "       1, 0, 3, 3, 0, 3, 3, 0, 2, 4, 0, 3, 0, 2, 0, 4, 0, 1, 1, 3, 3, 1,\n",
       "       0, 2, 2, 2, 4, 2, 4, 1, 3, 4, 1, 3, 1, 2, 1, 0, 1, 4, 2, 0, 2, 2,\n",
       "       3, 2, 3, 0, 3, 3, 3, 2, 3, 1, 3, 2, 0, 0, 4, 1, 3, 2, 2, 3, 1, 0,\n",
       "       3, 2, 0, 3, 0, 2, 3, 1, 0, 3, 0, 3, 3, 3, 3, 4, 0, 4, 0, 2, 4, 3,\n",
       "       3, 1, 0, 4, 4, 2, 0, 2, 4, 2, 0, 4, 1, 3, 1, 3, 0, 3, 1, 4, 1, 1,\n",
       "       3, 3, 2, 4, 2, 2, 1, 2, 1, 0, 1, 3, 4, 1, 0, 2])"
      ]
     },
     "execution_count": 30,
     "metadata": {},
     "output_type": "execute_result"
    }
   ],
   "source": [
    "predictions = model.predict(X_test)\n",
    "predicted_id = np.argmax(predictions, axis=-1)\n",
    "predicted_id"
   ]
  },
  {
   "cell_type": "code",
   "execution_count": 31,
   "metadata": {},
   "outputs": [
    {
     "data": {
      "text/plain": [
       "(500, 150, 44)"
      ]
     },
     "execution_count": 31,
     "metadata": {},
     "output_type": "execute_result"
    }
   ],
   "source": [
    "X_test.shape"
   ]
  },
  {
   "cell_type": "code",
   "execution_count": 27,
   "metadata": {},
   "outputs": [
    {
     "name": "stderr",
     "output_type": "stream",
     "text": [
      "WARNING:absl:Found untraced functions such as _jit_compiled_convolution_op, _update_step_xla while saving (showing 2 of 2). These functions will not be directly callable after loading.\n"
     ]
    },
    {
     "name": "stdout",
     "output_type": "stream",
     "text": [
      "INFO:tensorflow:Assets written to: ./model/assets\n"
     ]
    },
    {
     "name": "stderr",
     "output_type": "stream",
     "text": [
      "INFO:tensorflow:Assets written to: ./model/assets\n"
     ]
    }
   ],
   "source": [
    "tf.saved_model.save(model, \"./model\")"
   ]
  }
 ],
 "metadata": {
  "kernelspec": {
   "display_name": "tf",
   "language": "python",
   "name": "python3"
  },
  "language_info": {
   "codemirror_mode": {
    "name": "ipython",
    "version": 3
   },
   "file_extension": ".py",
   "mimetype": "text/x-python",
   "name": "python",
   "nbconvert_exporter": "python",
   "pygments_lexer": "ipython3",
   "version": "3.9.12"
  },
  "orig_nbformat": 4
 },
 "nbformat": 4,
 "nbformat_minor": 2
}
